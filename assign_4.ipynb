{
 "cells": [
  {
   "cell_type": "markdown",
   "id": "28bfa4c1",
   "metadata": {},
   "source": [
    "1. What exactly is []?"
   ]
  },
  {
   "cell_type": "markdown",
   "id": "8146c6f7",
   "metadata": {},
   "source": [
    "Ans :- [] this indiactes a list"
   ]
  },
  {
   "cell_type": "code",
   "execution_count": 1,
   "id": "f117201f",
   "metadata": {},
   "outputs": [
    {
     "name": "stdout",
     "output_type": "stream",
     "text": [
      "<class 'list'>\n"
     ]
    }
   ],
   "source": [
    "l = [2]\n",
    "print(type(l))"
   ]
  },
  {
   "cell_type": "markdown",
   "id": "9015eb30",
   "metadata": {},
   "source": [
    "Here we can see that type of variable l is list"
   ]
  },
  {
   "cell_type": "markdown",
   "id": "179a3350",
   "metadata": {},
   "source": [
    "2. In a list of values stored in a variable called spam, how would you assign the value 'hello' as the third value? (Assume [2, 4, 6, 8, 10] are in spam.)"
   ]
  },
  {
   "cell_type": "code",
   "execution_count": 3,
   "id": "2966b285",
   "metadata": {},
   "outputs": [
    {
     "name": "stdout",
     "output_type": "stream",
     "text": [
      "[2, 4, 'hello', 8, 10]\n"
     ]
    }
   ],
   "source": [
    "spam = [2,4,6,8,10]\n",
    "spam[2] = 'hello'\n",
    "print(spam)"
   ]
  },
  {
   "cell_type": "markdown",
   "id": "4868360b",
   "metadata": {},
   "source": [
    "here we have assigned hello in the second index of spam"
   ]
  },
  {
   "cell_type": "markdown",
   "id": "559f06bf",
   "metadata": {},
   "source": [
    "3.What is the value of spam[int(int('3' * 2) / 11)]?"
   ]
  },
  {
   "cell_type": "code",
   "execution_count": 4,
   "id": "7bacd89d",
   "metadata": {},
   "outputs": [
    {
     "name": "stdout",
     "output_type": "stream",
     "text": [
      "d\n"
     ]
    }
   ],
   "source": [
    "spam = ['a','b','c','d']\n",
    "print(spam[int(int('3'*2)/11)])\n"
   ]
  },
  {
   "cell_type": "markdown",
   "id": "f54f0ae5",
   "metadata": {},
   "source": [
    "here first it will do '3'*2 where the answer is '33'\n",
    "when int('33') is 33/11 is 3 so index of 3 is d"
   ]
  },
  {
   "cell_type": "markdown",
   "id": "cec3625b",
   "metadata": {},
   "source": [
    "4 .What is the value of spam[-1]?"
   ]
  },
  {
   "cell_type": "code",
   "execution_count": 6,
   "id": "ba23c4c1",
   "metadata": {},
   "outputs": [
    {
     "name": "stdout",
     "output_type": "stream",
     "text": [
      "d\n"
     ]
    }
   ],
   "source": [
    "print(spam[-1])"
   ]
  },
  {
   "cell_type": "markdown",
   "id": "6d6224f5",
   "metadata": {},
   "source": [
    "here index start from -4,-3,-2,-1 in the last index -1 contains d"
   ]
  },
  {
   "cell_type": "markdown",
   "id": "8d359cab",
   "metadata": {},
   "source": [
    "5. What is the value of spam[:2]?"
   ]
  },
  {
   "cell_type": "code",
   "execution_count": 7,
   "id": "f0e10971",
   "metadata": {},
   "outputs": [
    {
     "name": "stdout",
     "output_type": "stream",
     "text": [
      "['a', 'b']\n"
     ]
    }
   ],
   "source": [
    "print(spam[:2])"
   ]
  },
  {
   "cell_type": "markdown",
   "id": "1f499025",
   "metadata": {},
   "source": [
    "here the index is start from 0,1,2,3 \n",
    "so, 0,1 has a,b where 2 will be not taken as in the rule n-1"
   ]
  },
  {
   "cell_type": "markdown",
   "id": "64e42620",
   "metadata": {},
   "source": [
    "6. What is the value of bacon.index('cat')?"
   ]
  },
  {
   "cell_type": "markdown",
   "id": "a176f8c4",
   "metadata": {},
   "source": [
    "Let's pretend bacon has the list [3.14, 'cat,' 11, 'cat,' True] for the next three questions."
   ]
  },
  {
   "cell_type": "code",
   "execution_count": 9,
   "id": "08dea0f8",
   "metadata": {},
   "outputs": [
    {
     "name": "stdout",
     "output_type": "stream",
     "text": [
      "1\n"
     ]
    }
   ],
   "source": [
    "bacon = [3.14, 'cat', 11, 'cat', True]\n",
    "print(bacon.index('cat'))"
   ]
  },
  {
   "cell_type": "markdown",
   "id": "2b7f22da",
   "metadata": {},
   "source": [
    "here it shows only the fisrt time element and give the index value"
   ]
  },
  {
   "cell_type": "markdown",
   "id": "00d9b70d",
   "metadata": {},
   "source": [
    "7. How does bacon.append(99) change the look of the list value in bacon?"
   ]
  },
  {
   "cell_type": "code",
   "execution_count": 12,
   "id": "f650c794",
   "metadata": {},
   "outputs": [
    {
     "name": "stdout",
     "output_type": "stream",
     "text": [
      "[3.14, 'cat', 11, 'cat', True, 99]\n"
     ]
    }
   ],
   "source": [
    "bacon = [3.14,'cat',11,'cat',True]\n",
    "bacon.append(99)\n",
    "print(bacon)"
   ]
  },
  {
   "cell_type": "markdown",
   "id": "a488249d",
   "metadata": {},
   "source": [
    "when we use append function it will add the element in the end of the list."
   ]
  },
  {
   "cell_type": "markdown",
   "id": "3f1e2f51",
   "metadata": {},
   "source": [
    "8. How does bacon.remove('cat') change the look of the list in bacon?"
   ]
  },
  {
   "cell_type": "code",
   "execution_count": 13,
   "id": "84d6e321",
   "metadata": {},
   "outputs": [
    {
     "name": "stdout",
     "output_type": "stream",
     "text": [
      "[3.14, 11, 'cat', True, 99]\n"
     ]
    }
   ],
   "source": [
    "bacon.remove('cat')\n",
    "print(bacon)"
   ]
  },
  {
   "cell_type": "markdown",
   "id": "ab08e50c",
   "metadata": {},
   "source": [
    "here there are 2 cat in the list but only the first cat is removed when we use the remove function"
   ]
  },
  {
   "cell_type": "markdown",
   "id": "07845a56",
   "metadata": {},
   "source": [
    "9. What are the list concatenation and list replication operators?"
   ]
  },
  {
   "cell_type": "markdown",
   "id": "274d03a5",
   "metadata": {},
   "source": [
    "for list concatenation we use + operator.\n",
    "\n",
    "\n",
    "for list replication we use * operator"
   ]
  },
  {
   "cell_type": "code",
   "execution_count": 15,
   "id": "f5d41f16",
   "metadata": {},
   "outputs": [
    {
     "name": "stdout",
     "output_type": "stream",
     "text": [
      "['a', 'b', 'c', 'd', 'e', 'f']\n",
      "['a', 'b', 'c', 'd', 'e', 'f', 'a', 'b', 'c', 'd', 'e', 'f', 'a', 'b', 'c', 'd', 'e', 'f']\n"
     ]
    }
   ],
   "source": [
    "l = ['a','b','c']\n",
    "p = ['d','e','f']\n",
    "q = l+p\n",
    "print(q)\n",
    "print(q*3)"
   ]
  },
  {
   "cell_type": "markdown",
   "id": "683c24a4",
   "metadata": {},
   "source": [
    "10. What is difference between the list methods append() and insert()?"
   ]
  },
  {
   "cell_type": "code",
   "execution_count": 4,
   "id": "b192e6d9",
   "metadata": {},
   "outputs": [
    {
     "name": "stdout",
     "output_type": "stream",
     "text": [
      "[1, 2, 3, 4]\n",
      "[1, 5, 2, 3, 4]\n"
     ]
    }
   ],
   "source": [
    "l = [ 1, 2, 3]\n",
    "l.append(4)\n",
    "print(l)\n",
    "l.insert(1,5)\n",
    "print(l)"
   ]
  },
  {
   "cell_type": "markdown",
   "id": "5416d671",
   "metadata": {},
   "source": [
    "when we use append at end the element will be add\n",
    "\n",
    "where with the insert we can the element in the any place of the list"
   ]
  },
  {
   "cell_type": "markdown",
   "id": "1f8723f8",
   "metadata": {},
   "source": [
    "11. What are the two methods for removing items from a list"
   ]
  },
  {
   "cell_type": "markdown",
   "id": "847dca6f",
   "metadata": {},
   "source": [
    "there are 3 methods for removeing items from a list"
   ]
  },
  {
   "cell_type": "code",
   "execution_count": 10,
   "id": "9d1f4fe7",
   "metadata": {},
   "outputs": [
    {
     "name": "stdout",
     "output_type": "stream",
     "text": [
      "[1, 1, 1, 2, 45, 3]\n"
     ]
    }
   ],
   "source": [
    "l = [1,2,1,1,2,45,3]\n",
    "l.remove(2)\n",
    "print(l)"
   ]
  },
  {
   "cell_type": "markdown",
   "id": "8e2b76b7",
   "metadata": {},
   "source": [
    "from the remove func only the frist element of the l will be removed"
   ]
  },
  {
   "cell_type": "code",
   "execution_count": 11,
   "id": "59afcdaa",
   "metadata": {},
   "outputs": [
    {
     "name": "stdout",
     "output_type": "stream",
     "text": [
      "[1, 2, 1, 2, 45, 3]\n"
     ]
    }
   ],
   "source": [
    "l = [1,2,1,1,2,45,3]\n",
    "l.pop(2)\n",
    "print(l)"
   ]
  },
  {
   "cell_type": "markdown",
   "id": "faad96fd",
   "metadata": {},
   "source": [
    "here the 2nd index element will be removed"
   ]
  },
  {
   "cell_type": "code",
   "execution_count": 12,
   "id": "5684ce35",
   "metadata": {},
   "outputs": [
    {
     "name": "stdout",
     "output_type": "stream",
     "text": [
      "[]\n"
     ]
    }
   ],
   "source": [
    "l = [1,2,1,1,2,45,3]\n",
    "l.clear()\n",
    "print(l)"
   ]
  },
  {
   "cell_type": "markdown",
   "id": "b818a285",
   "metadata": {},
   "source": [
    "here clear func will remove all the elements from the list"
   ]
  },
  {
   "cell_type": "markdown",
   "id": "c96168ea",
   "metadata": {},
   "source": [
    "12. Describe how list values and string values are identical"
   ]
  },
  {
   "cell_type": "markdown",
   "id": "84a96da1",
   "metadata": {},
   "source": [
    "Ans:-The list values and string values follows the same indexing method"
   ]
  },
  {
   "cell_type": "code",
   "execution_count": 13,
   "id": "02e39d8e",
   "metadata": {},
   "outputs": [
    {
     "name": "stdout",
     "output_type": "stream",
     "text": [
      "bhargav"
     ]
    }
   ],
   "source": [
    "l=['b','h','a','r','g','a','v']\n",
    "for i in l:\n",
    "    print(i,end=\"\")"
   ]
  },
  {
   "cell_type": "code",
   "execution_count": 14,
   "id": "3d70cc86",
   "metadata": {},
   "outputs": [
    {
     "name": "stdout",
     "output_type": "stream",
     "text": [
      "bhargav"
     ]
    }
   ],
   "source": [
    "s='bhargav'\n",
    "for i in s:\n",
    "    print(i,end=\"\")"
   ]
  },
  {
   "cell_type": "code",
   "execution_count": 15,
   "id": "f79b54be",
   "metadata": {},
   "outputs": [
    {
     "data": {
      "text/plain": [
       "'g'"
      ]
     },
     "execution_count": 15,
     "metadata": {},
     "output_type": "execute_result"
    }
   ],
   "source": [
    "l[4]"
   ]
  },
  {
   "cell_type": "code",
   "execution_count": 16,
   "id": "66065f77",
   "metadata": {},
   "outputs": [
    {
     "data": {
      "text/plain": [
       "'g'"
      ]
     },
     "execution_count": 16,
     "metadata": {},
     "output_type": "execute_result"
    }
   ],
   "source": [
    "s[4]"
   ]
  },
  {
   "cell_type": "markdown",
   "id": "b5822a10",
   "metadata": {},
   "source": [
    "13. What's the difference between tuples and lists?"
   ]
  },
  {
   "cell_type": "markdown",
   "id": "02096d85",
   "metadata": {},
   "source": [
    "tuples are immutable and lists are mutable means once tuple created means we cannot manipulate the tuple direclty but we can manipulate the list."
   ]
  },
  {
   "cell_type": "code",
   "execution_count": 17,
   "id": "4b337e2e",
   "metadata": {},
   "outputs": [
    {
     "name": "stdout",
     "output_type": "stream",
     "text": [
      "3\n"
     ]
    }
   ],
   "source": [
    "t=(1,2,3,4)\n",
    "print(t[2])"
   ]
  },
  {
   "cell_type": "code",
   "execution_count": 21,
   "id": "50b4ce70",
   "metadata": {},
   "outputs": [
    {
     "ename": "TypeError",
     "evalue": "'tuple' object does not support item assignment",
     "output_type": "error",
     "traceback": [
      "\u001b[31m---------------------------------------------------------------------------\u001b[39m",
      "\u001b[31mTypeError\u001b[39m                                 Traceback (most recent call last)",
      "\u001b[36mCell\u001b[39m\u001b[36m \u001b[39m\u001b[32mIn[21]\u001b[39m\u001b[32m, line 1\u001b[39m\n\u001b[32m----> \u001b[39m\u001b[32m1\u001b[39m \u001b[43mt\u001b[49m\u001b[43m[\u001b[49m\u001b[32;43m3\u001b[39;49m\u001b[43m]\u001b[49m=\u001b[32m5\u001b[39m\n\u001b[32m      2\u001b[39m \u001b[38;5;28mprint\u001b[39m(t)\n",
      "\u001b[31mTypeError\u001b[39m: 'tuple' object does not support item assignment"
     ]
    }
   ],
   "source": [
    "t[3]=5\n",
    "print(t)"
   ]
  },
  {
   "cell_type": "code",
   "execution_count": 19,
   "id": "9bee85cd",
   "metadata": {},
   "outputs": [
    {
     "name": "stdout",
     "output_type": "stream",
     "text": [
      "3\n"
     ]
    }
   ],
   "source": [
    "l=[1,2,3,4]\n",
    "print(l[2])"
   ]
  },
  {
   "cell_type": "code",
   "execution_count": 20,
   "id": "f0ad73d5",
   "metadata": {},
   "outputs": [
    {
     "name": "stdout",
     "output_type": "stream",
     "text": [
      "[1, 2, 5, 4]\n"
     ]
    }
   ],
   "source": [
    "l[2]=5\n",
    "print(l)"
   ]
  },
  {
   "cell_type": "markdown",
   "id": "64feecea",
   "metadata": {},
   "source": [
    "14. How do you type a tuple value that only contains the integer 42?"
   ]
  },
  {
   "cell_type": "code",
   "execution_count": 23,
   "id": "7b65c2b4",
   "metadata": {},
   "outputs": [
    {
     "data": {
      "text/plain": [
       "42"
      ]
     },
     "execution_count": 23,
     "metadata": {},
     "output_type": "execute_result"
    }
   ],
   "source": [
    "t = (42,)\n",
    "t[0]"
   ]
  },
  {
   "cell_type": "code",
   "execution_count": 24,
   "id": "eae05e86",
   "metadata": {},
   "outputs": [
    {
     "data": {
      "text/plain": [
       "tuple"
      ]
     },
     "execution_count": 24,
     "metadata": {},
     "output_type": "execute_result"
    }
   ],
   "source": [
    "type(t)"
   ]
  },
  {
   "cell_type": "markdown",
   "id": "1d8af042",
   "metadata": {},
   "source": [
    "15.How do you get a list value's tuple form? How do you get a tuple value's list form?"
   ]
  },
  {
   "cell_type": "code",
   "execution_count": 25,
   "id": "775cbdd3",
   "metadata": {},
   "outputs": [
    {
     "name": "stdout",
     "output_type": "stream",
     "text": [
      "(1, 2, 3, 4)\n",
      "[1, 2, 3, 4]\n"
     ]
    }
   ],
   "source": [
    "l=[1,2,3,4]\n",
    "t=tuple(l)\n",
    "print(t)\n",
    "#To convert again from tuple to list\n",
    "l=list(t)\n",
    "print(l)"
   ]
  },
  {
   "cell_type": "markdown",
   "id": "8bc4e20f",
   "metadata": {},
   "source": [
    "16.Variables that \"contain\" list values are not necessarily lists themselves. Instead, what do they contain?"
   ]
  },
  {
   "cell_type": "markdown",
   "id": "11a54bbc",
   "metadata": {},
   "source": [
    "having list of values themselves."
   ]
  },
  {
   "cell_type": "markdown",
   "id": "246e4fde",
   "metadata": {},
   "source": [
    "17.How do you distinguish between copy.copy() and copy.deepcopy()?"
   ]
  },
  {
   "cell_type": "code",
   "execution_count": 26,
   "id": "cbdb4269",
   "metadata": {},
   "outputs": [
    {
     "name": "stdout",
     "output_type": "stream",
     "text": [
      "[1, 2, [5, 3], 4]\n",
      "[1, 2, [5, 3], 4]\n"
     ]
    }
   ],
   "source": [
    "import copy\n",
    "l1 = [1,2,[2,3],4]\n",
    "l2=copy.copy(l1)\n",
    "l2[2][0]=5\n",
    "print(l1)\n",
    "print(l2)"
   ]
  },
  {
   "cell_type": "code",
   "execution_count": 27,
   "id": "10f7f52b",
   "metadata": {},
   "outputs": [
    {
     "name": "stdout",
     "output_type": "stream",
     "text": [
      "[1, 2, [2, 3], 4]\n",
      "[1, 2, [5, 3], 4]\n"
     ]
    }
   ],
   "source": [
    "import copy\n",
    "l1 = [1,2,[2,3],4]\n",
    "l2=copy.deepcopy(l1)\n",
    "l2[2][0]=5\n",
    "print(l1)\n",
    "print(l2)"
   ]
  },
  {
   "cell_type": "markdown",
   "id": "9c2c7264",
   "metadata": {},
   "source": [
    "observe in copy.copy even if we made some changes in list l2 we are getting those changes in list l1 as well but when u use copy.deepcopy list l2 changes are not affecting l1"
   ]
  },
  {
   "cell_type": "code",
   "execution_count": null,
   "id": "8e4f6710",
   "metadata": {},
   "outputs": [],
   "source": []
  }
 ],
 "metadata": {
  "kernelspec": {
   "display_name": "Python 3",
   "language": "python",
   "name": "python3"
  },
  "language_info": {
   "codemirror_mode": {
    "name": "ipython",
    "version": 3
   },
   "file_extension": ".py",
   "mimetype": "text/x-python",
   "name": "python",
   "nbconvert_exporter": "python",
   "pygments_lexer": "ipython3",
   "version": "3.12.0"
  }
 },
 "nbformat": 4,
 "nbformat_minor": 5
}
