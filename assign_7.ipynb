{
 "cells": [
  {
   "cell_type": "markdown",
   "id": "0c36e790",
   "metadata": {},
   "source": [
    "1. "
   ]
  }
 ],
 "metadata": {
  "language_info": {
   "name": "python"
  }
 },
 "nbformat": 4,
 "nbformat_minor": 5
}
