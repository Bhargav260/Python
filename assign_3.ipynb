{
 "cells": [
  {
   "cell_type": "markdown",
   "id": "b437976f",
   "metadata": {},
   "source": [
    "1. Why are functions advantageous to have in your programs?"
   ]
  },
  {
   "cell_type": "markdown",
   "id": "c05fa873",
   "metadata": {},
   "source": [
    "Ans :- Functions can be reusable . Suppose in a code if i want to do factorial multiple times then instead of writing full code everytime we can call the function whenever we needed"
   ]
  },
  {
   "cell_type": "markdown",
   "id": "1ecab04c",
   "metadata": {},
   "source": [
    "2. When does the code in a function run: when it&#39;s specified or when it&#39;s called?"
   ]
  },
  {
   "cell_type": "code",
   "execution_count": 1,
   "id": "a62410a4",
   "metadata": {},
   "outputs": [],
   "source": [
    "def name():\n",
    "    print(\"kbn\")"
   ]
  },
  {
   "cell_type": "code",
   "execution_count": 2,
   "id": "6e112251",
   "metadata": {},
   "outputs": [
    {
     "name": "stdout",
     "output_type": "stream",
     "text": [
      "kbn\n"
     ]
    }
   ],
   "source": [
    "name()"
   ]
  },
  {
   "cell_type": "markdown",
   "id": "9ad5e77d",
   "metadata": {},
   "source": [
    "3. What statement creates a function?"
   ]
  },
  {
   "cell_type": "code",
   "execution_count": 4,
   "id": "d6837eba",
   "metadata": {},
   "outputs": [],
   "source": [
    "\n",
    "#Ans:-when we use def before the function name\n",
    "def name():\n",
    "    print(\"kbn\") "
   ]
  },
  {
   "cell_type": "code",
   "execution_count": 5,
   "id": "392ee1e7",
   "metadata": {},
   "outputs": [
    {
     "name": "stdout",
     "output_type": "stream",
     "text": [
      "kbn\n"
     ]
    }
   ],
   "source": [
    "name()"
   ]
  },
  {
   "cell_type": "markdown",
   "id": "ac3a7558",
   "metadata": {},
   "source": [
    "4. What is the difference between a function and a function call?"
   ]
  },
  {
   "cell_type": "markdown",
   "id": "b4adb2d9",
   "metadata": {},
   "source": [
    "Ans: - Function will have a whole body means it has the content/logic in and it won't run anything but when we call a function the code in it will run and it will return or print the result or if we use pass then nothing will be returned"
   ]
  },
  {
   "cell_type": "code",
   "execution_count": 6,
   "id": "f61a7482",
   "metadata": {},
   "outputs": [],
   "source": [
    "def say_hello():\n",
    "  print(\"Hello there\")"
   ]
  },
  {
   "cell_type": "code",
   "execution_count": 7,
   "id": "bb140fb6",
   "metadata": {},
   "outputs": [
    {
     "name": "stdout",
     "output_type": "stream",
     "text": [
      "Hello there\n"
     ]
    }
   ],
   "source": [
    "say_hello()"
   ]
  },
  {
   "cell_type": "markdown",
   "id": "61fec741",
   "metadata": {},
   "source": [
    "5. How many global scopes are there in a Python program? How many local scopes?"
   ]
  },
  {
   "cell_type": "markdown",
   "id": "fa490a9a",
   "metadata": {},
   "source": [
    "Ans:-\n",
    "Global scope:\n",
    "   This is the main, outermost scope of your program. Any variable you define here is accessible from anywhere in your code, both inside and outside of functions. There is only ever one global scope for the entire life of the program.\n",
    "   \n",
    "Local Scope:\n",
    "   This is a temporary scope created whenever a function is executed. Variables defined inside a function belong to its local scope and are only accessible from within that function. Once the function finishes running, its local scope and all its variables are destroyed."
   ]
  },
  {
   "cell_type": "code",
   "execution_count": 8,
   "id": "38c4ed49",
   "metadata": {},
   "outputs": [],
   "source": [
    "# 'global_var' is in the GLOBAL scope\n",
    "global_var = \"I'm a global variable\"\n",
    "\n",
    "def my_function():\n",
    "  # 'local_var' is in the LOCAL scope of my_function\n",
    "  local_var = \"I'm a local variable\"\n",
    "  \n",
    "  # We can access both variables from inside the function\n",
    "  print(local_var)    # Accessing the local variable\n",
    "  print(global_var)   # Accessing the global variable\n"
   ]
  },
  {
   "cell_type": "code",
   "execution_count": 9,
   "id": "8df58d50",
   "metadata": {},
   "outputs": [
    {
     "name": "stdout",
     "output_type": "stream",
     "text": [
      "--- Calling the function ---\n",
      "I'm a local variable\n",
      "I'm a global variable\n",
      "\n",
      "--- Back in the global scope ---\n",
      "I'm a global variable\n"
     ]
    }
   ],
   "source": [
    "# 1. Calling the function creates a new local scope\n",
    "print(\"--- Calling the function ---\")\n",
    "my_function()\n",
    "\n",
    "# 2. When the function ends, its local scope is gone\n",
    "print(\"\\n--- Back in the global scope ---\")\n",
    "print(global_var)   # This works fine"
   ]
  },
  {
   "cell_type": "code",
   "execution_count": 11,
   "id": "577cafe7",
   "metadata": {},
   "outputs": [
    {
     "name": "stdout",
     "output_type": "stream",
     "text": [
      "I'm a local variable\n",
      "I'm a global variable\n"
     ]
    }
   ],
   "source": [
    "my_function()"
   ]
  },
  {
   "cell_type": "markdown",
   "id": "3d05878b",
   "metadata": {},
   "source": [
    "6. What happens to variables in a local scope when the function call returns?"
   ]
  },
  {
   "cell_type": "markdown",
   "id": "4356b9d6",
   "metadata": {},
   "source": [
    "Ans:-When a function called actually the local variables will be active for execution.if those variables already exist as global variables then they will be override here and local variables will be consider for execution."
   ]
  },
  {
   "cell_type": "markdown",
   "id": "dff6318a",
   "metadata": {},
   "source": [
    "7. What is the concept of a return value? Is it possible to have a return value in an expression?"
   ]
  },
  {
   "cell_type": "markdown",
   "id": "78f4591b",
   "metadata": {},
   "source": [
    "Ans:-When we return a value it will have the data type and we can assigne that value to any variable and we can use that return value in expression as well since it is having data type . But when u use print instead of return then u cannot use to ecoressin since it has no data type"
   ]
  },
  {
   "cell_type": "code",
   "execution_count": 16,
   "id": "813e78a1",
   "metadata": {},
   "outputs": [],
   "source": [
    "a = 10\n",
    "b = 20\n",
    "def add(a,b):\n",
    "    c=a+b\n",
    "    return c"
   ]
  },
  {
   "cell_type": "code",
   "execution_count": 18,
   "id": "1aa3fec1",
   "metadata": {},
   "outputs": [
    {
     "data": {
      "text/plain": [
       "30"
      ]
     },
     "execution_count": 18,
     "metadata": {},
     "output_type": "execute_result"
    }
   ],
   "source": [
    "add(a,b)"
   ]
  },
  {
   "cell_type": "code",
   "execution_count": 21,
   "id": "39fe388f",
   "metadata": {},
   "outputs": [],
   "source": [
    "d = add(2,2)"
   ]
  },
  {
   "cell_type": "code",
   "execution_count": 22,
   "id": "82052f38",
   "metadata": {},
   "outputs": [
    {
     "data": {
      "text/plain": [
       "4"
      ]
     },
     "execution_count": 22,
     "metadata": {},
     "output_type": "execute_result"
    }
   ],
   "source": [
    "d"
   ]
  },
  {
   "cell_type": "code",
   "execution_count": 23,
   "id": "7001d55b",
   "metadata": {},
   "outputs": [
    {
     "data": {
      "text/plain": [
       "int"
      ]
     },
     "execution_count": 23,
     "metadata": {},
     "output_type": "execute_result"
    }
   ],
   "source": [
    "type(d)"
   ]
  },
  {
   "cell_type": "code",
   "execution_count": 25,
   "id": "8431c747",
   "metadata": {},
   "outputs": [
    {
     "name": "stdout",
     "output_type": "stream",
     "text": [
      "7\n"
     ]
    }
   ],
   "source": [
    "e = 3\n",
    "f = d + e\n",
    "print(f)"
   ]
  },
  {
   "cell_type": "markdown",
   "id": "13f927fd",
   "metadata": {},
   "source": [
    "8. If a function does not have a return statement, what is the return value of a call to that function?"
   ]
  },
  {
   "cell_type": "markdown",
   "id": "4c4c2e1f",
   "metadata": {},
   "source": [
    "Ans : - When there is no return statement the funtion will return \"None\" . U can see that in below"
   ]
  },
  {
   "cell_type": "code",
   "execution_count": 26,
   "id": "0c5a61e7",
   "metadata": {},
   "outputs": [],
   "source": [
    "def add1(a,b):\n",
    "    c=a+b"
   ]
  },
  {
   "cell_type": "code",
   "execution_count": 27,
   "id": "c0e59899",
   "metadata": {},
   "outputs": [],
   "source": [
    "d=add1(2,3)"
   ]
  },
  {
   "cell_type": "code",
   "execution_count": 28,
   "id": "b3d1afde",
   "metadata": {},
   "outputs": [
    {
     "name": "stdout",
     "output_type": "stream",
     "text": [
      "None\n"
     ]
    }
   ],
   "source": [
    "print(d)"
   ]
  },
  {
   "cell_type": "markdown",
   "id": "65da96f1",
   "metadata": {},
   "source": [
    "9. How do you make a function variable refer to the global variable?"
   ]
  },
  {
   "cell_type": "code",
   "execution_count": 29,
   "id": "6b97add1",
   "metadata": {},
   "outputs": [],
   "source": [
    "a=2\n",
    "def add2(a,b):\n",
    "    c=a+b\n",
    "    return c"
   ]
  },
  {
   "cell_type": "code",
   "execution_count": 30,
   "id": "aa296fff",
   "metadata": {},
   "outputs": [
    {
     "data": {
      "text/plain": [
       "3"
      ]
     },
     "execution_count": 30,
     "metadata": {},
     "output_type": "execute_result"
    }
   ],
   "source": [
    "add2(a,1)"
   ]
  },
  {
   "cell_type": "markdown",
   "id": "c0151ebb",
   "metadata": {},
   "source": [
    "10. What is the data type of None?"
   ]
  },
  {
   "cell_type": "code",
   "execution_count": 31,
   "id": "18d18bc5",
   "metadata": {},
   "outputs": [
    {
     "data": {
      "text/plain": [
       "NoneType"
      ]
     },
     "execution_count": 31,
     "metadata": {},
     "output_type": "execute_result"
    }
   ],
   "source": [
    "type(None)"
   ]
  },
  {
   "cell_type": "markdown",
   "id": "a219a097",
   "metadata": {},
   "source": [
    "here data type of none is \"Nonetype\""
   ]
  },
  {
   "cell_type": "markdown",
   "id": "e3f932c7",
   "metadata": {},
   "source": [
    "11.What does import are all your petsnamederic do?"
   ]
  },
  {
   "cell_type": "markdown",
   "id": "5ebe11aa",
   "metadata": {},
   "source": [
    "Ans:- The import statement will imports a module names areallyourspetsnamederic."
   ]
  },
  {
   "cell_type": "code",
   "execution_count": null,
   "id": "94c0419d",
   "metadata": {},
   "outputs": [],
   "source": []
  }
 ],
 "metadata": {
  "kernelspec": {
   "display_name": "Python 3",
   "language": "python",
   "name": "python3"
  },
  "language_info": {
   "codemirror_mode": {
    "name": "ipython",
    "version": 3
   },
   "file_extension": ".py",
   "mimetype": "text/x-python",
   "name": "python",
   "nbconvert_exporter": "python",
   "pygments_lexer": "ipython3",
   "version": "3.12.0"
  }
 },
 "nbformat": 4,
 "nbformat_minor": 5
}
