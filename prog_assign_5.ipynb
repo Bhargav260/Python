{
 "cells": [
  {
   "cell_type": "markdown",
   "id": "f0c9a203",
   "metadata": {},
   "source": [
    "1. Write a Python Program to Find LCM?"
   ]
  },
  {
   "cell_type": "code",
   "execution_count": 1,
   "id": "22bcb730",
   "metadata": {},
   "outputs": [
    {
     "name": "stdout",
     "output_type": "stream",
     "text": [
      "LCM is 132\n"
     ]
    }
   ],
   "source": [
    "a = int(input(\"Enter first number: \"))\n",
    "b = int(input(\"Enter second number: \"))\n",
    "\n",
    "lcm = max(a, b)\n",
    "while True:\n",
    "    if lcm % a == 0 and lcm % b == 0:\n",
    "        break\n",
    "    lcm += 1\n",
    "\n",
    "print(\"LCM is\", lcm)\n"
   ]
  },
  {
   "cell_type": "markdown",
   "id": "fa5cde76",
   "metadata": {},
   "source": [
    "2. Write a Python Program to Find HCF?"
   ]
  },
  {
   "cell_type": "code",
   "execution_count": 2,
   "id": "f0128174",
   "metadata": {},
   "outputs": [
    {
     "name": "stdout",
     "output_type": "stream",
     "text": [
      "HCF is 2\n"
     ]
    }
   ],
   "source": [
    "x = int(input(\"Enter first number: \"))\n",
    "y = int(input(\"Enter second number: \"))\n",
    "\n",
    "# Use a loop until remainder becomes 0\n",
    "while y != 0:\n",
    "    remainder = x % y\n",
    "    x = y\n",
    "    y = remainder\n",
    "\n",
    "print(\"HCF is\", x)\n"
   ]
  },
  {
   "cell_type": "markdown",
   "id": "4d4daa51",
   "metadata": {},
   "source": [
    "3. Write a Python Program to Convert Decimal to Binary, Octal and Hexadecimal?"
   ]
  },
  {
   "cell_type": "code",
   "execution_count": 3,
   "id": "34c6d4f3",
   "metadata": {},
   "outputs": [
    {
     "name": "stdout",
     "output_type": "stream",
     "text": [
      "The Binary value of 35 is: 0b100011\n",
      "The Octal value of 35 is: 0o43\n",
      "The Hexadecimal value of 35 is: 0x23\n"
     ]
    }
   ],
   "source": [
    "# Take input from user\n",
    "decimal = int(input(\"Enter a decimal number: \"))\n",
    "\n",
    "# Convert to binary, octal and hexadecimal\n",
    "print(\"The Binary value of\", decimal, \"is:\", bin(decimal))\n",
    "print(\"The Octal value of\", decimal, \"is:\", oct(decimal))\n",
    "print(\"The Hexadecimal value of\", decimal, \"is:\", hex(decimal))\n"
   ]
  },
  {
   "cell_type": "markdown",
   "id": "5aac0789",
   "metadata": {},
   "source": [
    "4. Write a Python Program To Find ASCII value of a character?"
   ]
  },
  {
   "cell_type": "code",
   "execution_count": 4,
   "id": "207f56b7",
   "metadata": {},
   "outputs": [
    {
     "name": "stdout",
     "output_type": "stream",
     "text": [
      "The ASCII value of k is: 107\n"
     ]
    }
   ],
   "source": [
    "ch = input(\"Enter a character: \")\n",
    "print(\"The ASCII value of\", ch, \"is:\", ord(ch))"
   ]
  },
  {
   "cell_type": "markdown",
   "id": "8a8a4f42",
   "metadata": {},
   "source": [
    "5. Write a Python Program to Make a Simple Calculator with 4 basic mathematical operations?"
   ]
  },
  {
   "cell_type": "code",
   "execution_count": 6,
   "id": "42bc4977",
   "metadata": {},
   "outputs": [
    {
     "name": "stdout",
     "output_type": "stream",
     "text": [
      "32.0 * 52.0 = 1664.0\n"
     ]
    }
   ],
   "source": [
    "num1 = float(input(\"Enter first number: \"))\n",
    "operator = input(\"Enter operator (+, -, *, /): \")\n",
    "num2 = float(input(\"Enter second number: \"))\n",
    "if operator == '+':\n",
    "    print(num1, \"+\", num2, \"=\", num1 + num2)\n",
    "elif operator == '-':\n",
    "    print(num1, \"-\", num2, \"=\", num1 - num2)\n",
    "elif operator == '*':\n",
    "    print(num1, \"*\", num2, \"=\", num1 * num2)\n",
    "elif operator == '/':\n",
    "    if num2 != 0:\n",
    "        print(num1, \"/\", num2, \"=\", num1 / num2)\n",
    "    else:\n",
    "        print(\"Error! Division by zero.\")\n",
    "else:\n",
    "    print(\"Invalid operator! Please use +, -, * or /.\")\n"
   ]
  }
 ],
 "metadata": {
  "kernelspec": {
   "display_name": "Python 3",
   "language": "python",
   "name": "python3"
  },
  "language_info": {
   "codemirror_mode": {
    "name": "ipython",
    "version": 3
   },
   "file_extension": ".py",
   "mimetype": "text/x-python",
   "name": "python",
   "nbconvert_exporter": "python",
   "pygments_lexer": "ipython3",
   "version": "3.12.0"
  }
 },
 "nbformat": 4,
 "nbformat_minor": 5
}
