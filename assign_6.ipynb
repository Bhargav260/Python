{
 "cells": [
  {
   "cell_type": "markdown",
   "id": "ac00019f",
   "metadata": {},
   "source": [
    "1. What are escape characters, and how do you use them?"
   ]
  },
  {
   "cell_type": "markdown",
   "id": "b0f6c25c",
   "metadata": {},
   "source": [
    "backslash ( \\ ) is the escape character in python"
   ]
  },
  {
   "cell_type": "code",
   "execution_count": null,
   "id": "3c103d8e",
   "metadata": {},
   "outputs": [
    {
     "ename": "SyntaxError",
     "evalue": "invalid syntax. Perhaps you forgot a comma? (1978030418.py, line 1)",
     "output_type": "error",
     "traceback": [
      "  \u001b[36mCell\u001b[39m\u001b[36m \u001b[39m\u001b[32mIn[1]\u001b[39m\u001b[32m, line 1\u001b[39m\n\u001b[31m    \u001b[39m\u001b[31mprint(\"He said, \"Hello!\"\")\u001b[39m\n          ^\n\u001b[31mSyntaxError\u001b[39m\u001b[31m:\u001b[39m invalid syntax. Perhaps you forgot a comma?\n"
     ]
    }
   ],
   "source": [
    "print(\"He said, \"Hello!\"\")"
   ]
  },
  {
   "cell_type": "code",
   "execution_count": 2,
   "id": "a9111ccd",
   "metadata": {},
   "outputs": [
    {
     "name": "stdout",
     "output_type": "stream",
     "text": [
      "He said, \"Hello!\"\n"
     ]
    }
   ],
   "source": [
    "print(\"He said, \\\"Hello!\\\"\")"
   ]
  },
  {
   "cell_type": "markdown",
   "id": "38476b30",
   "metadata": {},
   "source": [
    "2. What do the escape characters n and t stand for?\n"
   ]
  },
  {
   "cell_type": "markdown",
   "id": "47a5c06e",
   "metadata": {},
   "source": [
    "if we see \\n then it enters new line\n",
    "\n",
    "if we see \\t then it gives one tab space"
   ]
  },
  {
   "cell_type": "code",
   "execution_count": 5,
   "id": "7dde638f",
   "metadata": {},
   "outputs": [
    {
     "name": "stdout",
     "output_type": "stream",
     "text": [
      "kunapuli \n",
      " Bhargav \t Naidu\n"
     ]
    }
   ],
   "source": [
    "print(\"kunapuli \\n Bhargav \\t Naidu\")"
   ]
  },
  {
   "cell_type": "markdown",
   "id": "be9f81bb",
   "metadata": {},
   "source": [
    "3. What is the way to include backslash characters in a string?"
   ]
  },
  {
   "cell_type": "code",
   "execution_count": 6,
   "id": "9fa1fe08",
   "metadata": {},
   "outputs": [
    {
     "name": "stdout",
     "output_type": "stream",
     "text": [
      "Bhargav \\ Naidu\n"
     ]
    }
   ],
   "source": [
    "print(\"Bhargav \\\\ Naidu\")"
   ]
  },
  {
   "cell_type": "markdown",
   "id": "f8fd9468",
   "metadata": {},
   "source": [
    "if we want to include backslash we have to give 2backslash "
   ]
  },
  {
   "cell_type": "markdown",
   "id": "41aca0c1",
   "metadata": {},
   "source": [
    "4. The string \"Howl's Moving Castle\" is a correct value. Why isn't the single quote character in the word Howl's not escaped a problem?"
   ]
  },
  {
   "cell_type": "code",
   "execution_count": 7,
   "id": "e27f715a",
   "metadata": {},
   "outputs": [
    {
     "ename": "SyntaxError",
     "evalue": "unterminated string literal (detected at line 1) (2399584445.py, line 1)",
     "output_type": "error",
     "traceback": [
      "  \u001b[36mCell\u001b[39m\u001b[36m \u001b[39m\u001b[32mIn[7]\u001b[39m\u001b[32m, line 1\u001b[39m\n\u001b[31m    \u001b[39m\u001b[31mprint('Howl's Moving Castle')\u001b[39m\n                               ^\n\u001b[31mSyntaxError\u001b[39m\u001b[31m:\u001b[39m unterminated string literal (detected at line 1)\n"
     ]
    }
   ],
   "source": [
    "print('Howl's Moving Castle')"
   ]
  },
  {
   "cell_type": "markdown",
   "id": "a613b18a",
   "metadata": {},
   "source": [
    "where in the above single quote not posible to print all the string to overcome this we use double quote as below code"
   ]
  },
  {
   "cell_type": "code",
   "execution_count": 8,
   "id": "4e340808",
   "metadata": {},
   "outputs": [
    {
     "name": "stdout",
     "output_type": "stream",
     "text": [
      "Howl's Moving Castle\n"
     ]
    }
   ],
   "source": [
    "print(\"Howl's Moving Castle\")"
   ]
  },
  {
   "cell_type": "markdown",
   "id": "6db23121",
   "metadata": {},
   "source": [
    "5. How do you write a string of newlines if you don't want to use the n character?"
   ]
  },
  {
   "cell_type": "markdown",
   "id": "dcddffad",
   "metadata": {},
   "source": [
    "we can write a string of newlines without using \\n. By using the print statement"
   ]
  },
  {
   "cell_type": "code",
   "execution_count": 9,
   "id": "582f8dc6",
   "metadata": {},
   "outputs": [
    {
     "name": "stdout",
     "output_type": "stream",
     "text": [
      "Bhargav\n",
      "naidu\n"
     ]
    }
   ],
   "source": [
    "print(\"Bhargav\")\n",
    "print(\"naidu\")"
   ]
  },
  {
   "cell_type": "markdown",
   "id": "1a9d5d71",
   "metadata": {},
   "source": [
    "6. What are the values of the given expressions? 'Hello, world!'[1] 'Hello, world!'[0:5] 'Hello, world!'[:5] 'Hello, world!'[3:]"
   ]
  },
  {
   "cell_type": "code",
   "execution_count": 10,
   "id": "0ce5b9a0",
   "metadata": {},
   "outputs": [
    {
     "name": "stdout",
     "output_type": "stream",
     "text": [
      "e\n",
      "Hello\n",
      "Hello\n",
      "lo, world!\n"
     ]
    }
   ],
   "source": [
    "print('Hello, world!'[1])\n",
    "print('Hello, world!'[0:5])\n",
    "print('Hello, world!'[:5])\n",
    "print('Hello, world!'[3:])"
   ]
  },
  {
   "cell_type": "markdown",
   "id": "ca1cf659",
   "metadata": {},
   "source": [
    "a.In first one it just print the index 1 element .....\n",
    "\n",
    "b.In second and third one it prints from index 0 to index 4 and index 5 will be excluded .... \n",
    "\n",
    "c.In fourth one it prints from index 3 to entire string"
   ]
  },
  {
   "cell_type": "markdown",
   "id": "70894558",
   "metadata": {},
   "source": [
    "7. What are the values of the following expressions? 'Hello'.upper() 'Hello'.upper().isupper() 'Hello'.upper().lower()"
   ]
  },
  {
   "cell_type": "code",
   "execution_count": 12,
   "id": "9d17b699",
   "metadata": {},
   "outputs": [
    {
     "name": "stdout",
     "output_type": "stream",
     "text": [
      "BHARGAV\n",
      "True\n",
      "bhargav\n"
     ]
    }
   ],
   "source": [
    "print('Bhargav'.upper())\n",
    "print('Bhargav'.upper().isupper())\n",
    "print('Bhargav'.upper().lower())"
   ]
  },
  {
   "cell_type": "markdown",
   "id": "c0d57a6c",
   "metadata": {},
   "source": [
    "8. What are the values of the following expressions? 'Remember, remember, the fifth of July.'.split() '-'.join('There can only one.'.split())What are the values of the following expressions? 'Remember, remember, the fifth of July.'.split() '-'.join('There can only one.'.split())"
   ]
  },
  {
   "cell_type": "code",
   "execution_count": 13,
   "id": "3ae21dfb",
   "metadata": {},
   "outputs": [
    {
     "name": "stdout",
     "output_type": "stream",
     "text": [
      "['Remember,', 'remember,', 'the', 'fifth', 'of', 'July.']\n",
      "There-can-only-one.\n"
     ]
    }
   ],
   "source": [
    "print('Remember, remember, the fifth of July.'.split())\n",
    "print('-'.join('There can only one.'.split()))"
   ]
  },
  {
   "cell_type": "markdown",
   "id": "7fe6ceaa",
   "metadata": {},
   "source": [
    "In the first every word is saparated by using split() func\n",
    "and in second statement all words are join() func"
   ]
  },
  {
   "cell_type": "markdown",
   "id": "ca06376b",
   "metadata": {},
   "source": [
    "9. What are the methods for right-justifying, left-justifying, and centering a string?"
   ]
  },
  {
   "cell_type": "code",
   "execution_count": 16,
   "id": "7e5f944e",
   "metadata": {},
   "outputs": [
    {
     "name": "stdout",
     "output_type": "stream",
     "text": [
      "*************************************bhargav_naidu\n",
      "bhargav_naidu*************************************\n",
      "******************bhargav_naidu*******************\n"
     ]
    }
   ],
   "source": [
    "str = \"bhargav_naidu\"\n",
    "print(str.rjust(50,'*'))\n",
    "print(str.ljust(50,'*'))\n",
    "print(str.center(50,'*'))"
   ]
  },
  {
   "cell_type": "markdown",
   "id": "98a78449",
   "metadata": {},
   "source": [
    "10. What is the best way to remove whitespace characters from the start or end?"
   ]
  },
  {
   "cell_type": "code",
   "execution_count": 15,
   "id": "3d03ea6d",
   "metadata": {},
   "outputs": [
    {
     "name": "stdout",
     "output_type": "stream",
     "text": [
      "                                     bhargav_naidu\n",
      "bhargav_naidu                                     \n",
      "                  bhargav_naidu                   \n"
     ]
    }
   ],
   "source": [
    "str = \"bhargav_naidu\"\n",
    "print(str.rjust(50))\n",
    "print(str.ljust(50))\n",
    "print(str.center(50))"
   ]
  },
  {
   "cell_type": "code",
   "execution_count": null,
   "id": "d0a6cf9c",
   "metadata": {},
   "outputs": [],
   "source": []
  }
 ],
 "metadata": {
  "kernelspec": {
   "display_name": "Python 3",
   "language": "python",
   "name": "python3"
  },
  "language_info": {
   "codemirror_mode": {
    "name": "ipython",
    "version": 3
   },
   "file_extension": ".py",
   "mimetype": "text/x-python",
   "name": "python",
   "nbconvert_exporter": "python",
   "pygments_lexer": "ipython3",
   "version": "3.12.0"
  }
 },
 "nbformat": 4,
 "nbformat_minor": 5
}
