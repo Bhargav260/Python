{
 "cells": [
  {
   "cell_type": "markdown",
   "id": "34dce0e7",
   "metadata": {},
   "source": [
    "1. Write a Python program to convert kilometers to miles?"
   ]
  },
  {
   "cell_type": "code",
   "execution_count": 2,
   "id": "9de062d5",
   "metadata": {},
   "outputs": [
    {
     "name": "stdout",
     "output_type": "stream",
     "text": [
      "miles: 16.0934\n"
     ]
    }
   ],
   "source": [
    "# one mile = 1.60934 kilometers\n",
    "# 1km = (1/1.60934)*miles\n",
    "km = float(input(\"Enter value in kilometers: \"))\n",
    "miles = km * 1.60934\n",
    "print(\"miles:\",miles)"
   ]
  },
  {
   "cell_type": "markdown",
   "id": "17267087",
   "metadata": {},
   "source": [
    "2. Write a Python program to convert Celsius to Fahrenheit?"
   ]
  },
  {
   "cell_type": "code",
   "execution_count": 4,
   "id": "c465d6b3",
   "metadata": {},
   "outputs": [
    {
     "name": "stdout",
     "output_type": "stream",
     "text": [
      "fahrenheit: 89.6\n"
     ]
    }
   ],
   "source": [
    "# f = (c * 9/5) + 32\n",
    "c = float(input(\"Enter value in celsius: \"))\n",
    "f = (c * 9/5) + 32\n",
    "print(\"fahrenheit:\",f)\n"
   ]
  },
  {
   "cell_type": "markdown",
   "id": "4b808580",
   "metadata": {},
   "source": [
    "3. Write a Python program to display calendar?"
   ]
  },
  {
   "cell_type": "code",
   "execution_count": 5,
   "id": "c841e5a7",
   "metadata": {},
   "outputs": [
    {
     "name": "stdout",
     "output_type": "stream",
     "text": [
      "     April 2003\n",
      "Mo Tu We Th Fr Sa Su\n",
      "    1  2  3  4  5  6\n",
      " 7  8  9 10 11 12 13\n",
      "14 15 16 17 18 19 20\n",
      "21 22 23 24 25 26 27\n",
      "28 29 30\n",
      "\n"
     ]
    }
   ],
   "source": [
    "import calendar\n",
    "year = int(input(\"enter year: \"))\n",
    "month = int(input(\"enter month:\"))\n",
    "print(calendar.month(year,month))"
   ]
  },
  {
   "cell_type": "markdown",
   "id": "0bab12be",
   "metadata": {},
   "source": [
    "4. Write a Python program to solve quadratic equation?"
   ]
  },
  {
   "cell_type": "code",
   "execution_count": 6,
   "id": "fc12a9f3",
   "metadata": {},
   "outputs": [
    {
     "name": "stdout",
     "output_type": "stream",
     "text": [
      "roots are: (-0.3333333333333333+1.3743685418725535j) (-0.3333333333333333-1.3743685418725535j)\n"
     ]
    }
   ],
   "source": [
    "# quadratic equation ax**2 + bx + c = 0\n",
    "# formula -b +- sqrt(b**2 - 4ac)/2a\n",
    "import cmath\n",
    "a = int(input(\"enter a: \"))\n",
    "b = int(input(\"enter b: \"))\n",
    "c = int(input(\"enter c: \"))\n",
    "d = (b**2) - (4*a*c)\n",
    "sol1 = (-b + cmath.sqrt(d)) / (2*a)\n",
    "sol2 = (-b - cmath.sqrt(d)) / (2*a)\n",
    "print(\"roots are:\",sol1,sol2)"
   ]
  },
  {
   "cell_type": "markdown",
   "id": "f534e967",
   "metadata": {},
   "source": [
    "5. Write a Python program to swap two variables without temp variable?"
   ]
  },
  {
   "cell_type": "code",
   "execution_count": 14,
   "id": "9fa3d4cc",
   "metadata": {},
   "outputs": [
    {
     "name": "stdout",
     "output_type": "stream",
     "text": [
      "Before swaping a: 23 b: 32\n",
      "after swapping a: 32 b: 23\n"
     ]
    }
   ],
   "source": [
    "a = int(input(\"enter a: \"))\n",
    "b = int(input(\"enter b: \"))\n",
    "print(\"Before swaping a:\",a,\"b:\",b)\n",
    "a,b = b,a\n",
    "print(\"after swapping a:\",a,\"b:\",b)\n"
   ]
  },
  {
   "cell_type": "code",
   "execution_count": null,
   "id": "75555883",
   "metadata": {},
   "outputs": [],
   "source": []
  }
 ],
 "metadata": {
  "kernelspec": {
   "display_name": "Python 3",
   "language": "python",
   "name": "python3"
  },
  "language_info": {
   "codemirror_mode": {
    "name": "ipython",
    "version": 3
   },
   "file_extension": ".py",
   "mimetype": "text/x-python",
   "name": "python",
   "nbconvert_exporter": "python",
   "pygments_lexer": "ipython3",
   "version": "3.12.0"
  }
 },
 "nbformat": 4,
 "nbformat_minor": 5
}
