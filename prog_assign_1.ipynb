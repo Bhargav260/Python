{
 "cells": [
  {
   "cell_type": "markdown",
   "id": "9f0b1b7d",
   "metadata": {},
   "source": [
    "1. Write a Python program to print \"Hello Python\"?"
   ]
  },
  {
   "cell_type": "code",
   "execution_count": 1,
   "id": "59c389c9",
   "metadata": {},
   "outputs": [
    {
     "name": "stdout",
     "output_type": "stream",
     "text": [
      "Hello World\n"
     ]
    }
   ],
   "source": [
    "print(\"Hello World\")"
   ]
  },
  {
   "cell_type": "markdown",
   "id": "9d263f16",
   "metadata": {},
   "source": [
    "2. Write a Python program to do arithmetical operations addition and division.?"
   ]
  },
  {
   "cell_type": "code",
   "execution_count": 2,
   "id": "340bb182",
   "metadata": {},
   "outputs": [
    {
     "name": "stdout",
     "output_type": "stream",
     "text": [
      "Addition: 35\n",
      "Division: 1.9166666666666667\n"
     ]
    }
   ],
   "source": [
    "a = int(input(\"Enter a number:\"))\n",
    "b = int(input(\"Enter another number:\"))\n",
    "print(\"Addition:\", a+b)\n",
    "print(\"Division:\", a/b)"
   ]
  },
  {
   "cell_type": "markdown",
   "id": "6c8e9187",
   "metadata": {},
   "source": [
    "3. Write a Python program to find the area of a triangle?"
   ]
  },
  {
   "cell_type": "code",
   "execution_count": 3,
   "id": "9daf8cdd",
   "metadata": {},
   "outputs": [
    {
     "name": "stdout",
     "output_type": "stream",
     "text": [
      "Area of triangle is: 84.0\n"
     ]
    }
   ],
   "source": [
    "base = int(input(\"enter base of triangle:\"))\n",
    "height = int(input(\"enter height of triangle:\"))\n",
    "area = 0.5 * base * height\n",
    "print(\"Area of triangle is:\",area)"
   ]
  },
  {
   "cell_type": "markdown",
   "id": "7d14ae4b",
   "metadata": {},
   "source": [
    "4. Write a Python program to swap two variables?"
   ]
  },
  {
   "cell_type": "code",
   "execution_count": 5,
   "id": "1e681ef6",
   "metadata": {},
   "outputs": [
    {
     "name": "stdout",
     "output_type": "stream",
     "text": [
      "before swapping a : 23 b : 65\n",
      "after swaping a : 65 b : 23\n"
     ]
    }
   ],
   "source": [
    "a = int(input(\"enter a number:\"))\n",
    "b = int(input(\"enter another number:\"))\n",
    "print(\"before swapping a :\",a ,\"b :\", b)\n",
    "a, b = b, a\n",
    "print(\"after swaping a :\",a ,\"b :\",b)"
   ]
  },
  {
   "cell_type": "markdown",
   "id": "f5631235",
   "metadata": {},
   "source": [
    "5. Write a Python program to generate a random number?"
   ]
  },
  {
   "cell_type": "code",
   "execution_count": 6,
   "id": "12fcbd6a",
   "metadata": {},
   "outputs": [
    {
     "name": "stdout",
     "output_type": "stream",
     "text": [
      "Random number between 1 and 100 is: 64\n"
     ]
    }
   ],
   "source": [
    "# here is a python program to generate a random number \n",
    "# importing the random module\n",
    "import random\n",
    "# generating a random number between 1 and 100\n",
    "random_number = random.randint(1, 100)\n",
    "print(\"Random number between 1 and 100 is:\", random_number)\n"
   ]
  },
  {
   "cell_type": "code",
   "execution_count": null,
   "id": "d313d417",
   "metadata": {},
   "outputs": [],
   "source": []
  }
 ],
 "metadata": {
  "kernelspec": {
   "display_name": "Python 3",
   "language": "python",
   "name": "python3"
  },
  "language_info": {
   "codemirror_mode": {
    "name": "ipython",
    "version": 3
   },
   "file_extension": ".py",
   "mimetype": "text/x-python",
   "name": "python",
   "nbconvert_exporter": "python",
   "pygments_lexer": "ipython3",
   "version": "3.12.0"
  }
 },
 "nbformat": 4,
 "nbformat_minor": 5
}
